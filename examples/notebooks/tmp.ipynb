{
 "cells": [
  {
   "cell_type": "code",
   "execution_count": 1,
   "id": "f33c9876-1009-46af-8fb5-85f44a8f3684",
   "metadata": {},
   "outputs": [
    {
     "data": {
      "text/plain": [
       "True"
      ]
     },
     "execution_count": 1,
     "metadata": {},
     "output_type": "execute_result"
    }
   ],
   "source": [
    "from dotenv import load_dotenv, find_dotenv\n",
    "\n",
    "load_dotenv(find_dotenv())"
   ]
  },
  {
   "cell_type": "code",
   "execution_count": 2,
   "id": "7df80e55-2c6d-4521-9e89-81327c149458",
   "metadata": {},
   "outputs": [],
   "source": [
    "import os"
   ]
  },
  {
   "cell_type": "code",
   "execution_count": 3,
   "id": "0061f86d-9ed9-4801-925d-7a321295d51a",
   "metadata": {},
   "outputs": [],
   "source": [
    "EMBEDDING_API_URL = \"http://127.0.0.1:7997\""
   ]
  },
  {
   "cell_type": "code",
   "execution_count": 4,
   "id": "9c34cc5c-a889-40ed-8b41-a5fd6d9de286",
   "metadata": {},
   "outputs": [],
   "source": [
    "import openai\n",
    "# from langchain_openai import OpenAIEmbeddings"
   ]
  },
  {
   "cell_type": "code",
   "execution_count": 5,
   "id": "c6fa30a0-0ff4-433c-88dd-b2ee0d3609c0",
   "metadata": {},
   "outputs": [],
   "source": [
    "client = openai.OpenAI(base_url=EMBEDDING_API_URL, api_key='no_key')"
   ]
  },
  {
   "cell_type": "code",
   "execution_count": 7,
   "id": "21264647-2b31-443f-9679-0b5f057f8e2a",
   "metadata": {},
   "outputs": [],
   "source": [
    "embeddings = client.embeddings.create(\n",
    "                    model='kure-v1',\n",
    "                    input=['안녕', '디지몬'],\n",
    "                )"
   ]
  },
  {
   "cell_type": "code",
   "execution_count": 11,
   "id": "cd7a1628-09b4-4a47-b3e6-b4d773277b55",
   "metadata": {},
   "outputs": [
    {
     "data": {
      "text/plain": [
       "2"
      ]
     },
     "execution_count": 11,
     "metadata": {},
     "output_type": "execute_result"
    }
   ],
   "source": [
    "len(embeddings.data)"
   ]
  },
  {
   "cell_type": "code",
   "execution_count": 6,
   "id": "835f2757-d919-48e2-84e1-2283c202c62a",
   "metadata": {},
   "outputs": [
    {
     "data": {
      "text/plain": [
       "<openai.OpenAI at 0x11ad33380>"
      ]
     },
     "execution_count": 6,
     "metadata": {},
     "output_type": "execute_result"
    }
   ],
   "source": [
    "client.cre"
   ]
  },
  {
   "cell_type": "code",
   "execution_count": null,
   "id": "d48afca8-be26-4566-ba7b-7c04622bc220",
   "metadata": {},
   "outputs": [],
   "source": [
    "client = openai.OpenAI(base_url=EMBEDDING_API_URL)\n",
    "    # embedding_fn = OpenAIEmbeddings(\n",
    "    #     client=client,\n",
    "    #     model='kure-v1',        \n",
    "    # )"
   ]
  },
  {
   "cell_type": "markdown",
   "id": "f3f44c95-45c7-400b-9ca8-564e62bdca2b",
   "metadata": {},
   "source": [
    "---"
   ]
  },
  {
   "cell_type": "code",
   "execution_count": null,
   "id": "4037fb3e-d0a2-4edd-a8ea-aaff886d987f",
   "metadata": {},
   "outputs": [],
   "source": []
  }
 ],
 "metadata": {
  "kernelspec": {
   "display_name": "opensearch_toolkits",
   "language": "python",
   "name": "opensearch_toolkits"
  },
  "language_info": {
   "codemirror_mode": {
    "name": "ipython",
    "version": 3
   },
   "file_extension": ".py",
   "mimetype": "text/x-python",
   "name": "python",
   "nbconvert_exporter": "python",
   "pygments_lexer": "ipython3",
   "version": "3.12.9"
  }
 },
 "nbformat": 4,
 "nbformat_minor": 5
}
